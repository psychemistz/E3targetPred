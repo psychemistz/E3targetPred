{
 "cells": [
  {
   "cell_type": "code",
   "execution_count": 8,
   "metadata": {},
   "outputs": [
    {
     "name": "stdout",
     "output_type": "stream",
     "text": [
      "The autoreload extension is already loaded. To reload it, use:\n",
      "  %reload_ext autoreload\n"
     ]
    }
   ],
   "source": [
    "## All required packages\n",
    "## Scientific Packakges\n",
    "import sys, os, re, gc, time\n",
    "import numpy as np\n",
    "import pandas as pd\n",
    "from random import sample\n",
    "from scipy.io import savemat\n",
    "from collections import Counter\n",
    "import matplotlib.pyplot as plt\n",
    "\n",
    "## Keras\n",
    "from keras import metrics\n",
    "from keras import optimizers\n",
    "from keras.utils.np_utils import to_categorical\n",
    "from keras.models import Model, load_model\n",
    "from keras.layers import Input, Dense, BatchNormalization, Dropout\n",
    "from keras.callbacks import EarlyStopping, ModelCheckpoint\n",
    "\n",
    "## Sklearn-metrics\n",
    "from sklearn.metrics import confusion_matrix, accuracy_score, matthews_corrcoef, balanced_accuracy_score, roc_auc_score\n",
    "\n",
    "## Custom functions\n",
    "from models import E3_LSE\n",
    "from utils import *\n",
    "from feature_encodings import * ## Feature encoding utils\n",
    "from perf_metrics import * ## Some of hand crafted performance metrics\n",
    "\n",
    "%load_ext autoreload\n",
    "%autoreload"
   ]
  },
  {
   "cell_type": "code",
   "execution_count": 2,
   "metadata": {},
   "outputs": [],
   "source": [
    "## Loading and pre-processing E3-Target dataset\n",
    "data_path = 'https://raw.githubusercontent.com/psychemistz/Colab_temp/master/E3target_pred/1metadata.csv'\n",
    "dataset = pd.read_csv(data_path, index_col=None)"
   ]
  },
  {
   "cell_type": "code",
   "execution_count": 3,
   "metadata": {},
   "outputs": [],
   "source": [
    "## Extract features\n",
    "E3_features, Sub_features, Pair_features = Extract_Features(dataset, gap_size=6)\n",
    "target_label = to_categorical(dataset['Label'])"
   ]
  },
  {
   "cell_type": "code",
   "execution_count": 10,
   "metadata": {},
   "outputs": [
    {
     "name": "stdout",
     "output_type": "stream",
     "text": [
      "CKSAAP-Gap: 0 LV= 2 Trial: 0 Test Youden-index: 0.4856896399186057 MCC: 0.36457781622707597 AUC: 0.7428448199593028 MSE (dB): 14.141711137507924\n",
      "TRAINING RESULTS (MEAN)\n",
      "----------------------------------------------------------------------\n",
      "Accuracy: 0.9271929824561403\n",
      "Sensitivity: 0.8894736842105263\n",
      "Specificity: 0.9649122807017544\n",
      "F1-Score: 0.9243391066545124\n",
      "MCC: 0.8568275385878015\n",
      "Balance Accuracy: 0.9271929824561403\n",
      "Youden-Index: 0.8543859649122807\n",
      "AUC: 0.9271929824561402\n",
      "Reconstruction MSE: 14.142348873995015\n",
      "----------------------------------------------------------------------\n",
      "VALIDATION RESULTS (MEAN)\n",
      "----------------------------------------------------------------------\n",
      "Accuracy: 0.7333333333333333\n",
      "Sensitivity: 0.6666666666666666\n",
      "Specificity: 0.8\n",
      "F1-Score: 0.7142857142857143\n",
      "MCC: 0.4708709557974187\n",
      "Balance Accuracy: 0.7333333333333334\n",
      "Youden-Index: 0.4666666666666668\n",
      "AUC: 0.7333333333333333\n",
      "Reconstruction MSE: 14.136540491250063\n",
      "----------------------------------------------------------------------\n",
      "TEST RESULTS (MEAN)\n",
      "----------------------------------------------------------------------\n",
      "Accuracy: 0.7282479141835518\n",
      "Sensitivity: 0.7219101123595506\n",
      "Specificity: 0.7637795275590551\n",
      "F1-Score: 0.8184713375796179\n",
      "MCC: 0.36457781622707597\n",
      "Balance Accuracy: 0.7428448199593028\n",
      "Youden-Index: 0.4856896399186057\n",
      "AUC: 0.7428448199593028\n",
      "Reconstruction MSE: 14.141711137507924\n",
      "----------------------------------------------------------------------\n",
      "133.98103046417236\n"
     ]
    }
   ],
   "source": [
    "\"\"\"LVs = Number of Latent Variables\n",
    "   Gaps = Number of Gaps in CKSAAP Feature\n",
    "   lmd = Weight of Reconstruction Loss (Lambda)\n",
    "   num_Trials = Number of Trials for each LV, Gap combination at given Lambda value. \n",
    "\"\"\"\n",
    "LVs = np.asarray(range(2,3))\n",
    "Gaps = np.asarray(range(0,1))\n",
    "lmd = 0.5 \n",
    "num_Trials = 1\n",
    "\n",
    "MCSim(LVs, Gaps, lmd, num_Trials, E3_features, Sub_features, Pair_features, target_label)"
   ]
  }
 ],
 "metadata": {
  "kernelspec": {
   "display_name": "Python 3",
   "language": "python",
   "name": "python3"
  },
  "language_info": {
   "codemirror_mode": {
    "name": "ipython",
    "version": 3
   },
   "file_extension": ".py",
   "mimetype": "text/x-python",
   "name": "python",
   "nbconvert_exporter": "python",
   "pygments_lexer": "ipython3",
   "version": "3.7.7"
  }
 },
 "nbformat": 4,
 "nbformat_minor": 4
}
